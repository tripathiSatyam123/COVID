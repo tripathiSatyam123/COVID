{
 "cells": [
  {
   "cell_type": "code",
   "execution_count": 7,
   "id": "weekly-turkey",
   "metadata": {},
   "outputs": [
    {
     "name": "stderr",
     "output_type": "stream",
     "text": [
      "Warning message in file(file, \"rt\"):\n",
      "\"cannot open file 'Social_Network_Ads.csv': No such file or directory\""
     ]
    },
    {
     "ename": "ERROR",
     "evalue": "Error in file(file, \"rt\"): cannot open the connection\n",
     "output_type": "error",
     "traceback": [
      "Error in file(file, \"rt\"): cannot open the connection\nTraceback:\n",
      "1. read.csv(\"Social_Network_Ads.csv\")",
      "2. read.table(file = file, header = header, sep = sep, quote = quote, \n .     dec = dec, fill = fill, comment.char = comment.char, ...)",
      "3. file(file, \"rt\")"
     ]
    }
   ],
   "source": [
    "# Logistic Regression\n",
    "\n",
    "# Importing the dataset\n",
    "dataset = read.csv('Social_Network_Ads.csv')\n",
    "dataset = dataset[3:5]\n",
    "\n",
    "# Encoding the target feature as factor\n",
    "dataset$Purchased = factor(dataset$Purchased, levels = c(0, 1))\n",
    "\n",
    "# Splitting the dataset into the Training set and Test set\n",
    "# install.packages('caTools')\n",
    "library(caTools)\n",
    "set.seed(123)\n",
    "split = sample.split(dataset$Purchased, SplitRatio = 0.75)\n",
    "training_set = subset(dataset, split == TRUE)\n",
    "test_set = subset(dataset, split == FALSE)\n",
    "\n",
    "# Feature Scaling\n",
    "training_set[-3] = scale(training_set[-3])\n",
    "test_set[-3] = scale(test_set[-3])\n",
    "\n",
    "# Fitting Logistic Regression to the Training set\n",
    "classifier = glm(formula = Purchased ~ .,\n",
    "                 family = binomial,\n",
    "                 data = training_set)\n",
    "\n",
    "# Predicting the Test set results\n",
    "prob_pred = predict(classifier, type = 'response', newdata = test_set[-3])\n",
    "y_pred = ifelse(prob_pred > 0.5, 1, 0)\n",
    "\n",
    "# Making the Confusion Matrix\n",
    "cm = table(test_set[, 3], y_pred > 0.5)\n",
    "\n",
    "# Visualising the Training set results\n",
    "library(ElemStatLearn)\n",
    "set = training_set\n",
    "X1 = seq(min(set[, 1]) - 1, max(set[, 1]) + 1, by = 0.01)\n",
    "X2 = seq(min(set[, 2]) - 1, max(set[, 2]) + 1, by = 0.01)\n",
    "grid_set = expand.grid(X1, X2)\n",
    "colnames(grid_set) = c('Age', 'EstimatedSalary')\n",
    "prob_set = predict(classifier, type = 'response', newdata = grid_set)\n",
    "y_grid = ifelse(prob_set > 0.5, 1, 0)\n",
    "plot(set[, -3],\n",
    "     main = 'Logistic Regression (Training set)',\n",
    "     xlab = 'Age', ylab = 'Estimated Salary',\n",
    "     xlim = range(X1), ylim = range(X2))\n",
    "contour(X1, X2, matrix(as.numeric(y_grid), length(X1), length(X2)), add = TRUE)\n",
    "points(grid_set, pch = '.', col = ifelse(y_grid == 1, 'springgreen3', 'tomato'))\n",
    "points(set, pch = 21, bg = ifelse(set[, 3] == 1, 'green4', 'red3'))\n",
    "\n",
    "# Visualising the Test set results\n",
    "library(ElemStatLearn)\n",
    "set = test_set\n",
    "X1 = seq(min(set[, 1]) - 1, max(set[, 1]) + 1, by = 0.01)\n",
    "X2 = seq(min(set[, 2]) - 1, max(set[, 2]) + 1, by = 0.01)\n",
    "grid_set = expand.grid(X1, X2)\n",
    "colnames(grid_set) = c('Age', 'EstimatedSalary')\n",
    "prob_set = predict(classifier, type = 'response', newdata = grid_set)\n",
    "y_grid = ifelse(prob_set > 0.5, 1, 0)\n",
    "plot(set[, -3],\n",
    "     main = 'Logistic Regression (Test set)',\n",
    "     xlab = 'Age', ylab = 'Estimated Salary',\n",
    "     xlim = range(X1), ylim = range(X2))\n",
    "contour(X1, X2, matrix(as.numeric(y_grid), length(X1), length(X2)), add = TRUE)\n",
    "points(grid_set, pch = '.', col = ifelse(y_grid == 1, 'springgreen3', 'tomato'))\n",
    "points(set, pch = 21, bg = ifelse(set[, 3] == 1, 'green4', 'red3'))"
   ]
  },
  {
   "cell_type": "code",
   "execution_count": null,
   "id": "outer-omega",
   "metadata": {},
   "outputs": [],
   "source": [
    "    "
   ]
  }
 ],
 "metadata": {
  "kernelspec": {
   "display_name": "R",
   "language": "R",
   "name": "ir"
  },
  "language_info": {
   "codemirror_mode": "r",
   "file_extension": ".r",
   "mimetype": "text/x-r-source",
   "name": "R",
   "pygments_lexer": "r",
   "version": "3.6.1"
  }
 },
 "nbformat": 4,
 "nbformat_minor": 5
}
